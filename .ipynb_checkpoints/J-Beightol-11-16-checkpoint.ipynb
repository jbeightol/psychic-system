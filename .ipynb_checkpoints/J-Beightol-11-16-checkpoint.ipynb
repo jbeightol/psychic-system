{
 "cells": [
  {
   "cell_type": "code",
   "execution_count": 2,
   "metadata": {
    "collapsed": false
   },
   "outputs": [
    {
     "name": "stdout",
     "output_type": "stream",
     "text": [
      "/Users/davidbeightol\n"
     ]
    }
   ],
   "source": [
    "%cd"
   ]
  },
  {
   "cell_type": "code",
   "execution_count": 3,
   "metadata": {
    "collapsed": false
   },
   "outputs": [
    {
     "name": "stdout",
     "output_type": "stream",
     "text": [
      "/Users/davidbeightol/Documents/DSI/Git\n"
     ]
    }
   ],
   "source": [
    "cd documents/DSI/Git"
   ]
  },
  {
   "cell_type": "code",
   "execution_count": 6,
   "metadata": {
    "collapsed": false
   },
   "outputs": [
    {
     "name": "stdout",
     "output_type": "stream",
     "text": [
      "[Errno 2] No such file or directory: 'DC-DSI-3/curriculum/01-week/'\n",
      "/Users/davidbeightol/Documents/DSI/Git/DC-DSI-3/curriculum/01-week\n"
     ]
    }
   ],
   "source": [
    "cd DC-DSI-3/curriculum/01-week/"
   ]
  },
  {
   "cell_type": "code",
   "execution_count": 9,
   "metadata": {
    "collapsed": false,
    "scrolled": true
   },
   "outputs": [
    {
     "name": "stdout",
     "output_type": "stream",
     "text": [
      "[Errno 2] No such file or directory: '1.10-notebooks-and-CSVs-lab/'\n",
      "/Users/davidbeightol/Documents/DSI/Git/DC-DSI-3/curriculum/01-week/1.10-notebooks-and-CSVs-lab\n"
     ]
    }
   ],
   "source": [
    "cd 1.10-notebooks-and-CSVs-lab/"
   ]
  },
  {
   "cell_type": "code",
   "execution_count": 11,
   "metadata": {
    "collapsed": false
   },
   "outputs": [
    {
     "name": "stdout",
     "output_type": "stream",
     "text": [
      "/Users/davidbeightol/Documents/DSI/Git/DC-DSI-3/curriculum/01-week/1.10-notebooks-and-CSVs-lab/data\n"
     ]
    }
   ],
   "source": [
    "cd data/"
   ]
  },
  {
   "cell_type": "code",
   "execution_count": 12,
   "metadata": {
    "collapsed": false
   },
   "outputs": [
    {
     "name": "stdout",
     "output_type": "stream",
     "text": [
      "iris.csv\r\n"
     ]
    }
   ],
   "source": []
  },
  {
   "cell_type": "code",
   "execution_count": 31,
   "metadata": {
    "collapsed": false
   },
   "outputs": [
    {
     "name": "stdout",
     "output_type": "stream",
     "text": [
      "[['sepal_length', 'sepal_width', 'petal_length', 'petal_width', 'species'], ['5.1', '3.5', '1.4', '0.2', 'setosa'], ['4.9', '3', '1.4', '0.2', 'setosa'], ['4.7', '3.2', '1.3', '0.2', 'setosa'], ['4.6', '3.1', '1.5', '0.2', 'setosa'], ['5', '3.6', '1.4', '0.2', 'setosa'], ['5.4', '3.9', '1.7', '0.4', 'setosa'], ['4.6', '3.4', '1.4', '0.3', 'setosa'], ['5', '3.4', '1.5', '0.2', 'setosa'], ['4.4', '2.9', '1.4', '0.2', 'setosa']]\n",
      "['species', 'setosa', 'versicolor', 'virginica']\n"
     ]
    }
   ],
   "source": [
    "import csv\n",
    "\n",
    "dataset = []\n",
    "with open('iris.csv', 'rU') as f:\n",
    "    reader = csv.reader(f)\n",
    "    for row in reader:\n",
    "        dataset.append(row)        \n",
    "print dataset[0:10]\n",
    "\n",
    "#unique types \n",
    "unique_types = []\n",
    "for row in dataset:\n",
    "    if row[4] not in unique_types:\n",
    "        unique_types.append(row[4])\n",
    "print(unique_types)\n",
    "        \n",
    "        \n",
    "\n"
   ]
  },
  {
   "cell_type": "code",
   "execution_count": 44,
   "metadata": {
    "collapsed": false
   },
   "outputs": [
    {
     "name": "stdout",
     "output_type": "stream",
     "text": [
      "[['4.8', '3.4', '1.6', '0.2', 'setosa'], ['4.8', '3', '1.4', '0.1', 'setosa']]\n",
      "139\n",
      "setosa\n",
      "3.0309352518\n",
      "3.43846153846\n",
      "3.43846153846\n",
      "2.77\n",
      "2.974\n"
     ]
    }
   ],
   "source": [
    "#Eliminating headers\n",
    "dataset.reverse()\n",
    "dataset.pop()\n",
    "dataset.reverse()\n",
    "print dataset[0:2]\n",
    "\n",
    "#Identifying number of observations in dataset \n",
    "observations = len(dataset)\n",
    "print (observations) \n",
    "\n",
    "#Identifying species in row 4 of dataset \n",
    "species_row_4 = dataset[4][4]\n",
    "print(species_row_4)\n",
    "\n",
    "#average sepal length \n",
    "total_length = []\n",
    "for row in dataset:\n",
    "    total_length.append(float(row[1]))\n",
    "average_length = sum(total_length)/observations\n",
    "print(average_length)\n",
    "\n",
    "#average length of setosa flowers \n",
    "setosa_total_length = []\n",
    "setosa_counter = 0\n",
    "for row in dataset:\n",
    "    if row[4] == 'setosa':\n",
    "        setosa_total_length.append(float(row[1]))\n",
    "        setosa_counter = setosa_counter + 1 \n",
    "average_setosa_length = sum(setosa_total_length)/setosa_counter\n",
    "print(average_setosa_length)\n",
    "\n",
    "#Average sepal length for any species\n",
    "def avg_sepal_len(species):\n",
    "    total_len = []\n",
    "    type_counter = 0\n",
    "    for row in dataset:\n",
    "        if row[4] == species:\n",
    "            total_len.append(float(row[1]))\n",
    "            type_counter = type_counter + 1\n",
    "    average_sepal_len = sum(total_len)/type_counter\n",
    "    return average_sepal_len\n",
    "\n",
    "print(avg_sepal_len('setosa'))\n",
    "print(avg_sepal_len('versicolor'))\n",
    "print(avg_sepal_len('virginica'))\n"
   ]
  }
 ],
 "metadata": {
  "anaconda-cloud": {},
  "kernelspec": {
   "display_name": "Python [conda root]",
   "language": "python",
   "name": "conda-root-py"
  },
  "language_info": {
   "codemirror_mode": {
    "name": "ipython",
    "version": 2
   },
   "file_extension": ".py",
   "mimetype": "text/x-python",
   "name": "python",
   "nbconvert_exporter": "python",
   "pygments_lexer": "ipython2",
   "version": "2.7.12"
  }
 },
 "nbformat": 4,
 "nbformat_minor": 1
}
